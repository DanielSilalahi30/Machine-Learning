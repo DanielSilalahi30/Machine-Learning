{
  "nbformat": 4,
  "nbformat_minor": 0,
  "metadata": {
    "colab": {
      "name": "Untitled4.ipynb",
      "provenance": []
    },
    "kernelspec": {
      "name": "python3",
      "display_name": "Python 3"
    },
    "language_info": {
      "name": "python"
    },
    "widgets": {
      "application/vnd.jupyter.widget-state+json": {
        "22b01cb0bee8478ea3ac1689efc4292b": {
          "model_module": "@jupyter-widgets/controls",
          "model_name": "HBoxModel",
          "model_module_version": "1.5.0",
          "state": {
            "_dom_classes": [],
            "_model_module": "@jupyter-widgets/controls",
            "_model_module_version": "1.5.0",
            "_model_name": "HBoxModel",
            "_view_count": null,
            "_view_module": "@jupyter-widgets/controls",
            "_view_module_version": "1.5.0",
            "_view_name": "HBoxView",
            "box_style": "",
            "children": [
              "IPY_MODEL_a9ff59514f25438aa696deef6975ef40",
              "IPY_MODEL_90738c10cbcc49edaec06426722a5aad",
              "IPY_MODEL_7744004594954a49895cebaa5efb230f"
            ],
            "layout": "IPY_MODEL_a4b0c6c58bec491b9c1c92f8b983ece2"
          }
        },
        "a9ff59514f25438aa696deef6975ef40": {
          "model_module": "@jupyter-widgets/controls",
          "model_name": "HTMLModel",
          "model_module_version": "1.5.0",
          "state": {
            "_dom_classes": [],
            "_model_module": "@jupyter-widgets/controls",
            "_model_module_version": "1.5.0",
            "_model_name": "HTMLModel",
            "_view_count": null,
            "_view_module": "@jupyter-widgets/controls",
            "_view_module_version": "1.5.0",
            "_view_name": "HTMLView",
            "description": "",
            "description_tooltip": null,
            "layout": "IPY_MODEL_ce63f0b76cbe4058ad179fce348c88fe",
            "placeholder": "​",
            "style": "IPY_MODEL_4da83ae2b5d14f3d8aa2d2cbd96dc06f",
            "value": ""
          }
        },
        "90738c10cbcc49edaec06426722a5aad": {
          "model_module": "@jupyter-widgets/controls",
          "model_name": "FloatProgressModel",
          "model_module_version": "1.5.0",
          "state": {
            "_dom_classes": [],
            "_model_module": "@jupyter-widgets/controls",
            "_model_module_version": "1.5.0",
            "_model_name": "FloatProgressModel",
            "_view_count": null,
            "_view_module": "@jupyter-widgets/controls",
            "_view_module_version": "1.5.0",
            "_view_name": "ProgressView",
            "bar_style": "success",
            "description": "",
            "description_tooltip": null,
            "layout": "IPY_MODEL_c65883daf5fe4698801b263d574876f2",
            "max": 26421880,
            "min": 0,
            "orientation": "horizontal",
            "style": "IPY_MODEL_2c618a58314e41b094b0d31aa13614b7",
            "value": 26421880
          }
        },
        "7744004594954a49895cebaa5efb230f": {
          "model_module": "@jupyter-widgets/controls",
          "model_name": "HTMLModel",
          "model_module_version": "1.5.0",
          "state": {
            "_dom_classes": [],
            "_model_module": "@jupyter-widgets/controls",
            "_model_module_version": "1.5.0",
            "_model_name": "HTMLModel",
            "_view_count": null,
            "_view_module": "@jupyter-widgets/controls",
            "_view_module_version": "1.5.0",
            "_view_name": "HTMLView",
            "description": "",
            "description_tooltip": null,
            "layout": "IPY_MODEL_60eff9b63ced4a718092fde94eaf7b52",
            "placeholder": "​",
            "style": "IPY_MODEL_e315aa2109894b9b9d03093d5c65fc77",
            "value": " 26422272/? [00:01&lt;00:00, 24069678.73it/s]"
          }
        },
        "a4b0c6c58bec491b9c1c92f8b983ece2": {
          "model_module": "@jupyter-widgets/base",
          "model_name": "LayoutModel",
          "model_module_version": "1.2.0",
          "state": {
            "_model_module": "@jupyter-widgets/base",
            "_model_module_version": "1.2.0",
            "_model_name": "LayoutModel",
            "_view_count": null,
            "_view_module": "@jupyter-widgets/base",
            "_view_module_version": "1.2.0",
            "_view_name": "LayoutView",
            "align_content": null,
            "align_items": null,
            "align_self": null,
            "border": null,
            "bottom": null,
            "display": null,
            "flex": null,
            "flex_flow": null,
            "grid_area": null,
            "grid_auto_columns": null,
            "grid_auto_flow": null,
            "grid_auto_rows": null,
            "grid_column": null,
            "grid_gap": null,
            "grid_row": null,
            "grid_template_areas": null,
            "grid_template_columns": null,
            "grid_template_rows": null,
            "height": null,
            "justify_content": null,
            "justify_items": null,
            "left": null,
            "margin": null,
            "max_height": null,
            "max_width": null,
            "min_height": null,
            "min_width": null,
            "object_fit": null,
            "object_position": null,
            "order": null,
            "overflow": null,
            "overflow_x": null,
            "overflow_y": null,
            "padding": null,
            "right": null,
            "top": null,
            "visibility": null,
            "width": null
          }
        },
        "ce63f0b76cbe4058ad179fce348c88fe": {
          "model_module": "@jupyter-widgets/base",
          "model_name": "LayoutModel",
          "model_module_version": "1.2.0",
          "state": {
            "_model_module": "@jupyter-widgets/base",
            "_model_module_version": "1.2.0",
            "_model_name": "LayoutModel",
            "_view_count": null,
            "_view_module": "@jupyter-widgets/base",
            "_view_module_version": "1.2.0",
            "_view_name": "LayoutView",
            "align_content": null,
            "align_items": null,
            "align_self": null,
            "border": null,
            "bottom": null,
            "display": null,
            "flex": null,
            "flex_flow": null,
            "grid_area": null,
            "grid_auto_columns": null,
            "grid_auto_flow": null,
            "grid_auto_rows": null,
            "grid_column": null,
            "grid_gap": null,
            "grid_row": null,
            "grid_template_areas": null,
            "grid_template_columns": null,
            "grid_template_rows": null,
            "height": null,
            "justify_content": null,
            "justify_items": null,
            "left": null,
            "margin": null,
            "max_height": null,
            "max_width": null,
            "min_height": null,
            "min_width": null,
            "object_fit": null,
            "object_position": null,
            "order": null,
            "overflow": null,
            "overflow_x": null,
            "overflow_y": null,
            "padding": null,
            "right": null,
            "top": null,
            "visibility": null,
            "width": null
          }
        },
        "4da83ae2b5d14f3d8aa2d2cbd96dc06f": {
          "model_module": "@jupyter-widgets/controls",
          "model_name": "DescriptionStyleModel",
          "model_module_version": "1.5.0",
          "state": {
            "_model_module": "@jupyter-widgets/controls",
            "_model_module_version": "1.5.0",
            "_model_name": "DescriptionStyleModel",
            "_view_count": null,
            "_view_module": "@jupyter-widgets/base",
            "_view_module_version": "1.2.0",
            "_view_name": "StyleView",
            "description_width": ""
          }
        },
        "c65883daf5fe4698801b263d574876f2": {
          "model_module": "@jupyter-widgets/base",
          "model_name": "LayoutModel",
          "model_module_version": "1.2.0",
          "state": {
            "_model_module": "@jupyter-widgets/base",
            "_model_module_version": "1.2.0",
            "_model_name": "LayoutModel",
            "_view_count": null,
            "_view_module": "@jupyter-widgets/base",
            "_view_module_version": "1.2.0",
            "_view_name": "LayoutView",
            "align_content": null,
            "align_items": null,
            "align_self": null,
            "border": null,
            "bottom": null,
            "display": null,
            "flex": null,
            "flex_flow": null,
            "grid_area": null,
            "grid_auto_columns": null,
            "grid_auto_flow": null,
            "grid_auto_rows": null,
            "grid_column": null,
            "grid_gap": null,
            "grid_row": null,
            "grid_template_areas": null,
            "grid_template_columns": null,
            "grid_template_rows": null,
            "height": null,
            "justify_content": null,
            "justify_items": null,
            "left": null,
            "margin": null,
            "max_height": null,
            "max_width": null,
            "min_height": null,
            "min_width": null,
            "object_fit": null,
            "object_position": null,
            "order": null,
            "overflow": null,
            "overflow_x": null,
            "overflow_y": null,
            "padding": null,
            "right": null,
            "top": null,
            "visibility": null,
            "width": null
          }
        },
        "2c618a58314e41b094b0d31aa13614b7": {
          "model_module": "@jupyter-widgets/controls",
          "model_name": "ProgressStyleModel",
          "model_module_version": "1.5.0",
          "state": {
            "_model_module": "@jupyter-widgets/controls",
            "_model_module_version": "1.5.0",
            "_model_name": "ProgressStyleModel",
            "_view_count": null,
            "_view_module": "@jupyter-widgets/base",
            "_view_module_version": "1.2.0",
            "_view_name": "StyleView",
            "bar_color": null,
            "description_width": ""
          }
        },
        "60eff9b63ced4a718092fde94eaf7b52": {
          "model_module": "@jupyter-widgets/base",
          "model_name": "LayoutModel",
          "model_module_version": "1.2.0",
          "state": {
            "_model_module": "@jupyter-widgets/base",
            "_model_module_version": "1.2.0",
            "_model_name": "LayoutModel",
            "_view_count": null,
            "_view_module": "@jupyter-widgets/base",
            "_view_module_version": "1.2.0",
            "_view_name": "LayoutView",
            "align_content": null,
            "align_items": null,
            "align_self": null,
            "border": null,
            "bottom": null,
            "display": null,
            "flex": null,
            "flex_flow": null,
            "grid_area": null,
            "grid_auto_columns": null,
            "grid_auto_flow": null,
            "grid_auto_rows": null,
            "grid_column": null,
            "grid_gap": null,
            "grid_row": null,
            "grid_template_areas": null,
            "grid_template_columns": null,
            "grid_template_rows": null,
            "height": null,
            "justify_content": null,
            "justify_items": null,
            "left": null,
            "margin": null,
            "max_height": null,
            "max_width": null,
            "min_height": null,
            "min_width": null,
            "object_fit": null,
            "object_position": null,
            "order": null,
            "overflow": null,
            "overflow_x": null,
            "overflow_y": null,
            "padding": null,
            "right": null,
            "top": null,
            "visibility": null,
            "width": null
          }
        },
        "e315aa2109894b9b9d03093d5c65fc77": {
          "model_module": "@jupyter-widgets/controls",
          "model_name": "DescriptionStyleModel",
          "model_module_version": "1.5.0",
          "state": {
            "_model_module": "@jupyter-widgets/controls",
            "_model_module_version": "1.5.0",
            "_model_name": "DescriptionStyleModel",
            "_view_count": null,
            "_view_module": "@jupyter-widgets/base",
            "_view_module_version": "1.2.0",
            "_view_name": "StyleView",
            "description_width": ""
          }
        },
        "a6befbbc8d3f46c8af8b4f0a3e5af7e2": {
          "model_module": "@jupyter-widgets/controls",
          "model_name": "HBoxModel",
          "model_module_version": "1.5.0",
          "state": {
            "_dom_classes": [],
            "_model_module": "@jupyter-widgets/controls",
            "_model_module_version": "1.5.0",
            "_model_name": "HBoxModel",
            "_view_count": null,
            "_view_module": "@jupyter-widgets/controls",
            "_view_module_version": "1.5.0",
            "_view_name": "HBoxView",
            "box_style": "",
            "children": [
              "IPY_MODEL_e04b82dbfe144db9b2e01adedd0ab4bf",
              "IPY_MODEL_8a29ad11b7834b59803d2b399a113b61",
              "IPY_MODEL_80e91d1340b44199bfd87f0633c3d6ef"
            ],
            "layout": "IPY_MODEL_a062fc64c05b4222bfb1b751880402f0"
          }
        },
        "e04b82dbfe144db9b2e01adedd0ab4bf": {
          "model_module": "@jupyter-widgets/controls",
          "model_name": "HTMLModel",
          "model_module_version": "1.5.0",
          "state": {
            "_dom_classes": [],
            "_model_module": "@jupyter-widgets/controls",
            "_model_module_version": "1.5.0",
            "_model_name": "HTMLModel",
            "_view_count": null,
            "_view_module": "@jupyter-widgets/controls",
            "_view_module_version": "1.5.0",
            "_view_name": "HTMLView",
            "description": "",
            "description_tooltip": null,
            "layout": "IPY_MODEL_df447530ef5d4a58b745c184951455df",
            "placeholder": "​",
            "style": "IPY_MODEL_53304835c25442ada1d400fbe748b254",
            "value": ""
          }
        },
        "8a29ad11b7834b59803d2b399a113b61": {
          "model_module": "@jupyter-widgets/controls",
          "model_name": "FloatProgressModel",
          "model_module_version": "1.5.0",
          "state": {
            "_dom_classes": [],
            "_model_module": "@jupyter-widgets/controls",
            "_model_module_version": "1.5.0",
            "_model_name": "FloatProgressModel",
            "_view_count": null,
            "_view_module": "@jupyter-widgets/controls",
            "_view_module_version": "1.5.0",
            "_view_name": "ProgressView",
            "bar_style": "success",
            "description": "",
            "description_tooltip": null,
            "layout": "IPY_MODEL_47e62dda75ab4254a965c370c236fd9d",
            "max": 29515,
            "min": 0,
            "orientation": "horizontal",
            "style": "IPY_MODEL_805bc8e90dde437486010cccdcfa3323",
            "value": 29515
          }
        },
        "80e91d1340b44199bfd87f0633c3d6ef": {
          "model_module": "@jupyter-widgets/controls",
          "model_name": "HTMLModel",
          "model_module_version": "1.5.0",
          "state": {
            "_dom_classes": [],
            "_model_module": "@jupyter-widgets/controls",
            "_model_module_version": "1.5.0",
            "_model_name": "HTMLModel",
            "_view_count": null,
            "_view_module": "@jupyter-widgets/controls",
            "_view_module_version": "1.5.0",
            "_view_name": "HTMLView",
            "description": "",
            "description_tooltip": null,
            "layout": "IPY_MODEL_6c049164ad1742019c23abfeaad50815",
            "placeholder": "​",
            "style": "IPY_MODEL_de83a29109b4461693b8351adc5757d4",
            "value": " 29696/? [00:00&lt;00:00, 167618.48it/s]"
          }
        },
        "a062fc64c05b4222bfb1b751880402f0": {
          "model_module": "@jupyter-widgets/base",
          "model_name": "LayoutModel",
          "model_module_version": "1.2.0",
          "state": {
            "_model_module": "@jupyter-widgets/base",
            "_model_module_version": "1.2.0",
            "_model_name": "LayoutModel",
            "_view_count": null,
            "_view_module": "@jupyter-widgets/base",
            "_view_module_version": "1.2.0",
            "_view_name": "LayoutView",
            "align_content": null,
            "align_items": null,
            "align_self": null,
            "border": null,
            "bottom": null,
            "display": null,
            "flex": null,
            "flex_flow": null,
            "grid_area": null,
            "grid_auto_columns": null,
            "grid_auto_flow": null,
            "grid_auto_rows": null,
            "grid_column": null,
            "grid_gap": null,
            "grid_row": null,
            "grid_template_areas": null,
            "grid_template_columns": null,
            "grid_template_rows": null,
            "height": null,
            "justify_content": null,
            "justify_items": null,
            "left": null,
            "margin": null,
            "max_height": null,
            "max_width": null,
            "min_height": null,
            "min_width": null,
            "object_fit": null,
            "object_position": null,
            "order": null,
            "overflow": null,
            "overflow_x": null,
            "overflow_y": null,
            "padding": null,
            "right": null,
            "top": null,
            "visibility": null,
            "width": null
          }
        },
        "df447530ef5d4a58b745c184951455df": {
          "model_module": "@jupyter-widgets/base",
          "model_name": "LayoutModel",
          "model_module_version": "1.2.0",
          "state": {
            "_model_module": "@jupyter-widgets/base",
            "_model_module_version": "1.2.0",
            "_model_name": "LayoutModel",
            "_view_count": null,
            "_view_module": "@jupyter-widgets/base",
            "_view_module_version": "1.2.0",
            "_view_name": "LayoutView",
            "align_content": null,
            "align_items": null,
            "align_self": null,
            "border": null,
            "bottom": null,
            "display": null,
            "flex": null,
            "flex_flow": null,
            "grid_area": null,
            "grid_auto_columns": null,
            "grid_auto_flow": null,
            "grid_auto_rows": null,
            "grid_column": null,
            "grid_gap": null,
            "grid_row": null,
            "grid_template_areas": null,
            "grid_template_columns": null,
            "grid_template_rows": null,
            "height": null,
            "justify_content": null,
            "justify_items": null,
            "left": null,
            "margin": null,
            "max_height": null,
            "max_width": null,
            "min_height": null,
            "min_width": null,
            "object_fit": null,
            "object_position": null,
            "order": null,
            "overflow": null,
            "overflow_x": null,
            "overflow_y": null,
            "padding": null,
            "right": null,
            "top": null,
            "visibility": null,
            "width": null
          }
        },
        "53304835c25442ada1d400fbe748b254": {
          "model_module": "@jupyter-widgets/controls",
          "model_name": "DescriptionStyleModel",
          "model_module_version": "1.5.0",
          "state": {
            "_model_module": "@jupyter-widgets/controls",
            "_model_module_version": "1.5.0",
            "_model_name": "DescriptionStyleModel",
            "_view_count": null,
            "_view_module": "@jupyter-widgets/base",
            "_view_module_version": "1.2.0",
            "_view_name": "StyleView",
            "description_width": ""
          }
        },
        "47e62dda75ab4254a965c370c236fd9d": {
          "model_module": "@jupyter-widgets/base",
          "model_name": "LayoutModel",
          "model_module_version": "1.2.0",
          "state": {
            "_model_module": "@jupyter-widgets/base",
            "_model_module_version": "1.2.0",
            "_model_name": "LayoutModel",
            "_view_count": null,
            "_view_module": "@jupyter-widgets/base",
            "_view_module_version": "1.2.0",
            "_view_name": "LayoutView",
            "align_content": null,
            "align_items": null,
            "align_self": null,
            "border": null,
            "bottom": null,
            "display": null,
            "flex": null,
            "flex_flow": null,
            "grid_area": null,
            "grid_auto_columns": null,
            "grid_auto_flow": null,
            "grid_auto_rows": null,
            "grid_column": null,
            "grid_gap": null,
            "grid_row": null,
            "grid_template_areas": null,
            "grid_template_columns": null,
            "grid_template_rows": null,
            "height": null,
            "justify_content": null,
            "justify_items": null,
            "left": null,
            "margin": null,
            "max_height": null,
            "max_width": null,
            "min_height": null,
            "min_width": null,
            "object_fit": null,
            "object_position": null,
            "order": null,
            "overflow": null,
            "overflow_x": null,
            "overflow_y": null,
            "padding": null,
            "right": null,
            "top": null,
            "visibility": null,
            "width": null
          }
        },
        "805bc8e90dde437486010cccdcfa3323": {
          "model_module": "@jupyter-widgets/controls",
          "model_name": "ProgressStyleModel",
          "model_module_version": "1.5.0",
          "state": {
            "_model_module": "@jupyter-widgets/controls",
            "_model_module_version": "1.5.0",
            "_model_name": "ProgressStyleModel",
            "_view_count": null,
            "_view_module": "@jupyter-widgets/base",
            "_view_module_version": "1.2.0",
            "_view_name": "StyleView",
            "bar_color": null,
            "description_width": ""
          }
        },
        "6c049164ad1742019c23abfeaad50815": {
          "model_module": "@jupyter-widgets/base",
          "model_name": "LayoutModel",
          "model_module_version": "1.2.0",
          "state": {
            "_model_module": "@jupyter-widgets/base",
            "_model_module_version": "1.2.0",
            "_model_name": "LayoutModel",
            "_view_count": null,
            "_view_module": "@jupyter-widgets/base",
            "_view_module_version": "1.2.0",
            "_view_name": "LayoutView",
            "align_content": null,
            "align_items": null,
            "align_self": null,
            "border": null,
            "bottom": null,
            "display": null,
            "flex": null,
            "flex_flow": null,
            "grid_area": null,
            "grid_auto_columns": null,
            "grid_auto_flow": null,
            "grid_auto_rows": null,
            "grid_column": null,
            "grid_gap": null,
            "grid_row": null,
            "grid_template_areas": null,
            "grid_template_columns": null,
            "grid_template_rows": null,
            "height": null,
            "justify_content": null,
            "justify_items": null,
            "left": null,
            "margin": null,
            "max_height": null,
            "max_width": null,
            "min_height": null,
            "min_width": null,
            "object_fit": null,
            "object_position": null,
            "order": null,
            "overflow": null,
            "overflow_x": null,
            "overflow_y": null,
            "padding": null,
            "right": null,
            "top": null,
            "visibility": null,
            "width": null
          }
        },
        "de83a29109b4461693b8351adc5757d4": {
          "model_module": "@jupyter-widgets/controls",
          "model_name": "DescriptionStyleModel",
          "model_module_version": "1.5.0",
          "state": {
            "_model_module": "@jupyter-widgets/controls",
            "_model_module_version": "1.5.0",
            "_model_name": "DescriptionStyleModel",
            "_view_count": null,
            "_view_module": "@jupyter-widgets/base",
            "_view_module_version": "1.2.0",
            "_view_name": "StyleView",
            "description_width": ""
          }
        },
        "d4b339ad6385454bb9bd735ff428d658": {
          "model_module": "@jupyter-widgets/controls",
          "model_name": "HBoxModel",
          "model_module_version": "1.5.0",
          "state": {
            "_dom_classes": [],
            "_model_module": "@jupyter-widgets/controls",
            "_model_module_version": "1.5.0",
            "_model_name": "HBoxModel",
            "_view_count": null,
            "_view_module": "@jupyter-widgets/controls",
            "_view_module_version": "1.5.0",
            "_view_name": "HBoxView",
            "box_style": "",
            "children": [
              "IPY_MODEL_a967022152024727bbebc680d280eee5",
              "IPY_MODEL_53649611e8604855b9274dabbaba476e",
              "IPY_MODEL_9d1d287c141e4360b876b3b1f323208b"
            ],
            "layout": "IPY_MODEL_94bf1bf94a364773b1b24445ea8ec477"
          }
        },
        "a967022152024727bbebc680d280eee5": {
          "model_module": "@jupyter-widgets/controls",
          "model_name": "HTMLModel",
          "model_module_version": "1.5.0",
          "state": {
            "_dom_classes": [],
            "_model_module": "@jupyter-widgets/controls",
            "_model_module_version": "1.5.0",
            "_model_name": "HTMLModel",
            "_view_count": null,
            "_view_module": "@jupyter-widgets/controls",
            "_view_module_version": "1.5.0",
            "_view_name": "HTMLView",
            "description": "",
            "description_tooltip": null,
            "layout": "IPY_MODEL_f6ab4e1189fa4e81a408e0110265e5c2",
            "placeholder": "​",
            "style": "IPY_MODEL_a462c61741794eba9db86a312e308640",
            "value": ""
          }
        },
        "53649611e8604855b9274dabbaba476e": {
          "model_module": "@jupyter-widgets/controls",
          "model_name": "FloatProgressModel",
          "model_module_version": "1.5.0",
          "state": {
            "_dom_classes": [],
            "_model_module": "@jupyter-widgets/controls",
            "_model_module_version": "1.5.0",
            "_model_name": "FloatProgressModel",
            "_view_count": null,
            "_view_module": "@jupyter-widgets/controls",
            "_view_module_version": "1.5.0",
            "_view_name": "ProgressView",
            "bar_style": "success",
            "description": "",
            "description_tooltip": null,
            "layout": "IPY_MODEL_ff875a1396af48269bff9e68f5cf8416",
            "max": 4422102,
            "min": 0,
            "orientation": "horizontal",
            "style": "IPY_MODEL_1f9de7319a8b444ba092b87578eab8ba",
            "value": 4422102
          }
        },
        "9d1d287c141e4360b876b3b1f323208b": {
          "model_module": "@jupyter-widgets/controls",
          "model_name": "HTMLModel",
          "model_module_version": "1.5.0",
          "state": {
            "_dom_classes": [],
            "_model_module": "@jupyter-widgets/controls",
            "_model_module_version": "1.5.0",
            "_model_name": "HTMLModel",
            "_view_count": null,
            "_view_module": "@jupyter-widgets/controls",
            "_view_module_version": "1.5.0",
            "_view_name": "HTMLView",
            "description": "",
            "description_tooltip": null,
            "layout": "IPY_MODEL_136c96990731466c8d011637fdb1d074",
            "placeholder": "​",
            "style": "IPY_MODEL_6a57e1bd9aee4c4e9a1ac8c909d5e154",
            "value": " 4422656/? [00:00&lt;00:00, 6391432.59it/s]"
          }
        },
        "94bf1bf94a364773b1b24445ea8ec477": {
          "model_module": "@jupyter-widgets/base",
          "model_name": "LayoutModel",
          "model_module_version": "1.2.0",
          "state": {
            "_model_module": "@jupyter-widgets/base",
            "_model_module_version": "1.2.0",
            "_model_name": "LayoutModel",
            "_view_count": null,
            "_view_module": "@jupyter-widgets/base",
            "_view_module_version": "1.2.0",
            "_view_name": "LayoutView",
            "align_content": null,
            "align_items": null,
            "align_self": null,
            "border": null,
            "bottom": null,
            "display": null,
            "flex": null,
            "flex_flow": null,
            "grid_area": null,
            "grid_auto_columns": null,
            "grid_auto_flow": null,
            "grid_auto_rows": null,
            "grid_column": null,
            "grid_gap": null,
            "grid_row": null,
            "grid_template_areas": null,
            "grid_template_columns": null,
            "grid_template_rows": null,
            "height": null,
            "justify_content": null,
            "justify_items": null,
            "left": null,
            "margin": null,
            "max_height": null,
            "max_width": null,
            "min_height": null,
            "min_width": null,
            "object_fit": null,
            "object_position": null,
            "order": null,
            "overflow": null,
            "overflow_x": null,
            "overflow_y": null,
            "padding": null,
            "right": null,
            "top": null,
            "visibility": null,
            "width": null
          }
        },
        "f6ab4e1189fa4e81a408e0110265e5c2": {
          "model_module": "@jupyter-widgets/base",
          "model_name": "LayoutModel",
          "model_module_version": "1.2.0",
          "state": {
            "_model_module": "@jupyter-widgets/base",
            "_model_module_version": "1.2.0",
            "_model_name": "LayoutModel",
            "_view_count": null,
            "_view_module": "@jupyter-widgets/base",
            "_view_module_version": "1.2.0",
            "_view_name": "LayoutView",
            "align_content": null,
            "align_items": null,
            "align_self": null,
            "border": null,
            "bottom": null,
            "display": null,
            "flex": null,
            "flex_flow": null,
            "grid_area": null,
            "grid_auto_columns": null,
            "grid_auto_flow": null,
            "grid_auto_rows": null,
            "grid_column": null,
            "grid_gap": null,
            "grid_row": null,
            "grid_template_areas": null,
            "grid_template_columns": null,
            "grid_template_rows": null,
            "height": null,
            "justify_content": null,
            "justify_items": null,
            "left": null,
            "margin": null,
            "max_height": null,
            "max_width": null,
            "min_height": null,
            "min_width": null,
            "object_fit": null,
            "object_position": null,
            "order": null,
            "overflow": null,
            "overflow_x": null,
            "overflow_y": null,
            "padding": null,
            "right": null,
            "top": null,
            "visibility": null,
            "width": null
          }
        },
        "a462c61741794eba9db86a312e308640": {
          "model_module": "@jupyter-widgets/controls",
          "model_name": "DescriptionStyleModel",
          "model_module_version": "1.5.0",
          "state": {
            "_model_module": "@jupyter-widgets/controls",
            "_model_module_version": "1.5.0",
            "_model_name": "DescriptionStyleModel",
            "_view_count": null,
            "_view_module": "@jupyter-widgets/base",
            "_view_module_version": "1.2.0",
            "_view_name": "StyleView",
            "description_width": ""
          }
        },
        "ff875a1396af48269bff9e68f5cf8416": {
          "model_module": "@jupyter-widgets/base",
          "model_name": "LayoutModel",
          "model_module_version": "1.2.0",
          "state": {
            "_model_module": "@jupyter-widgets/base",
            "_model_module_version": "1.2.0",
            "_model_name": "LayoutModel",
            "_view_count": null,
            "_view_module": "@jupyter-widgets/base",
            "_view_module_version": "1.2.0",
            "_view_name": "LayoutView",
            "align_content": null,
            "align_items": null,
            "align_self": null,
            "border": null,
            "bottom": null,
            "display": null,
            "flex": null,
            "flex_flow": null,
            "grid_area": null,
            "grid_auto_columns": null,
            "grid_auto_flow": null,
            "grid_auto_rows": null,
            "grid_column": null,
            "grid_gap": null,
            "grid_row": null,
            "grid_template_areas": null,
            "grid_template_columns": null,
            "grid_template_rows": null,
            "height": null,
            "justify_content": null,
            "justify_items": null,
            "left": null,
            "margin": null,
            "max_height": null,
            "max_width": null,
            "min_height": null,
            "min_width": null,
            "object_fit": null,
            "object_position": null,
            "order": null,
            "overflow": null,
            "overflow_x": null,
            "overflow_y": null,
            "padding": null,
            "right": null,
            "top": null,
            "visibility": null,
            "width": null
          }
        },
        "1f9de7319a8b444ba092b87578eab8ba": {
          "model_module": "@jupyter-widgets/controls",
          "model_name": "ProgressStyleModel",
          "model_module_version": "1.5.0",
          "state": {
            "_model_module": "@jupyter-widgets/controls",
            "_model_module_version": "1.5.0",
            "_model_name": "ProgressStyleModel",
            "_view_count": null,
            "_view_module": "@jupyter-widgets/base",
            "_view_module_version": "1.2.0",
            "_view_name": "StyleView",
            "bar_color": null,
            "description_width": ""
          }
        },
        "136c96990731466c8d011637fdb1d074": {
          "model_module": "@jupyter-widgets/base",
          "model_name": "LayoutModel",
          "model_module_version": "1.2.0",
          "state": {
            "_model_module": "@jupyter-widgets/base",
            "_model_module_version": "1.2.0",
            "_model_name": "LayoutModel",
            "_view_count": null,
            "_view_module": "@jupyter-widgets/base",
            "_view_module_version": "1.2.0",
            "_view_name": "LayoutView",
            "align_content": null,
            "align_items": null,
            "align_self": null,
            "border": null,
            "bottom": null,
            "display": null,
            "flex": null,
            "flex_flow": null,
            "grid_area": null,
            "grid_auto_columns": null,
            "grid_auto_flow": null,
            "grid_auto_rows": null,
            "grid_column": null,
            "grid_gap": null,
            "grid_row": null,
            "grid_template_areas": null,
            "grid_template_columns": null,
            "grid_template_rows": null,
            "height": null,
            "justify_content": null,
            "justify_items": null,
            "left": null,
            "margin": null,
            "max_height": null,
            "max_width": null,
            "min_height": null,
            "min_width": null,
            "object_fit": null,
            "object_position": null,
            "order": null,
            "overflow": null,
            "overflow_x": null,
            "overflow_y": null,
            "padding": null,
            "right": null,
            "top": null,
            "visibility": null,
            "width": null
          }
        },
        "6a57e1bd9aee4c4e9a1ac8c909d5e154": {
          "model_module": "@jupyter-widgets/controls",
          "model_name": "DescriptionStyleModel",
          "model_module_version": "1.5.0",
          "state": {
            "_model_module": "@jupyter-widgets/controls",
            "_model_module_version": "1.5.0",
            "_model_name": "DescriptionStyleModel",
            "_view_count": null,
            "_view_module": "@jupyter-widgets/base",
            "_view_module_version": "1.2.0",
            "_view_name": "StyleView",
            "description_width": ""
          }
        },
        "70c27ed2a0a84f65a43ff4c530587863": {
          "model_module": "@jupyter-widgets/controls",
          "model_name": "HBoxModel",
          "model_module_version": "1.5.0",
          "state": {
            "_dom_classes": [],
            "_model_module": "@jupyter-widgets/controls",
            "_model_module_version": "1.5.0",
            "_model_name": "HBoxModel",
            "_view_count": null,
            "_view_module": "@jupyter-widgets/controls",
            "_view_module_version": "1.5.0",
            "_view_name": "HBoxView",
            "box_style": "",
            "children": [
              "IPY_MODEL_1a84dcda68d240aab0e20147b1867395",
              "IPY_MODEL_abe66b5419a049d58f4d088ab2b48377",
              "IPY_MODEL_2020a25b046e444189fa086afd9fd8dc"
            ],
            "layout": "IPY_MODEL_246f1ea46f654e63a85c5e35c855fd77"
          }
        },
        "1a84dcda68d240aab0e20147b1867395": {
          "model_module": "@jupyter-widgets/controls",
          "model_name": "HTMLModel",
          "model_module_version": "1.5.0",
          "state": {
            "_dom_classes": [],
            "_model_module": "@jupyter-widgets/controls",
            "_model_module_version": "1.5.0",
            "_model_name": "HTMLModel",
            "_view_count": null,
            "_view_module": "@jupyter-widgets/controls",
            "_view_module_version": "1.5.0",
            "_view_name": "HTMLView",
            "description": "",
            "description_tooltip": null,
            "layout": "IPY_MODEL_ba3e4e40d4da4d31a2ed9f50934f2afc",
            "placeholder": "​",
            "style": "IPY_MODEL_196953ad6b504bcc98493e292088da8f",
            "value": ""
          }
        },
        "abe66b5419a049d58f4d088ab2b48377": {
          "model_module": "@jupyter-widgets/controls",
          "model_name": "FloatProgressModel",
          "model_module_version": "1.5.0",
          "state": {
            "_dom_classes": [],
            "_model_module": "@jupyter-widgets/controls",
            "_model_module_version": "1.5.0",
            "_model_name": "FloatProgressModel",
            "_view_count": null,
            "_view_module": "@jupyter-widgets/controls",
            "_view_module_version": "1.5.0",
            "_view_name": "ProgressView",
            "bar_style": "success",
            "description": "",
            "description_tooltip": null,
            "layout": "IPY_MODEL_a9e7f6e89d2c488392d13857c7132175",
            "max": 5148,
            "min": 0,
            "orientation": "horizontal",
            "style": "IPY_MODEL_7ee3c01c133c40ce8f15a1fb2b600230",
            "value": 5148
          }
        },
        "2020a25b046e444189fa086afd9fd8dc": {
          "model_module": "@jupyter-widgets/controls",
          "model_name": "HTMLModel",
          "model_module_version": "1.5.0",
          "state": {
            "_dom_classes": [],
            "_model_module": "@jupyter-widgets/controls",
            "_model_module_version": "1.5.0",
            "_model_name": "HTMLModel",
            "_view_count": null,
            "_view_module": "@jupyter-widgets/controls",
            "_view_module_version": "1.5.0",
            "_view_name": "HTMLView",
            "description": "",
            "description_tooltip": null,
            "layout": "IPY_MODEL_8cd6fb54f4bb43058f165a81d86635d9",
            "placeholder": "​",
            "style": "IPY_MODEL_1e64ca2447714307b0ecc07e3b880383",
            "value": " 6144/? [00:00&lt;00:00, 135813.54it/s]"
          }
        },
        "246f1ea46f654e63a85c5e35c855fd77": {
          "model_module": "@jupyter-widgets/base",
          "model_name": "LayoutModel",
          "model_module_version": "1.2.0",
          "state": {
            "_model_module": "@jupyter-widgets/base",
            "_model_module_version": "1.2.0",
            "_model_name": "LayoutModel",
            "_view_count": null,
            "_view_module": "@jupyter-widgets/base",
            "_view_module_version": "1.2.0",
            "_view_name": "LayoutView",
            "align_content": null,
            "align_items": null,
            "align_self": null,
            "border": null,
            "bottom": null,
            "display": null,
            "flex": null,
            "flex_flow": null,
            "grid_area": null,
            "grid_auto_columns": null,
            "grid_auto_flow": null,
            "grid_auto_rows": null,
            "grid_column": null,
            "grid_gap": null,
            "grid_row": null,
            "grid_template_areas": null,
            "grid_template_columns": null,
            "grid_template_rows": null,
            "height": null,
            "justify_content": null,
            "justify_items": null,
            "left": null,
            "margin": null,
            "max_height": null,
            "max_width": null,
            "min_height": null,
            "min_width": null,
            "object_fit": null,
            "object_position": null,
            "order": null,
            "overflow": null,
            "overflow_x": null,
            "overflow_y": null,
            "padding": null,
            "right": null,
            "top": null,
            "visibility": null,
            "width": null
          }
        },
        "ba3e4e40d4da4d31a2ed9f50934f2afc": {
          "model_module": "@jupyter-widgets/base",
          "model_name": "LayoutModel",
          "model_module_version": "1.2.0",
          "state": {
            "_model_module": "@jupyter-widgets/base",
            "_model_module_version": "1.2.0",
            "_model_name": "LayoutModel",
            "_view_count": null,
            "_view_module": "@jupyter-widgets/base",
            "_view_module_version": "1.2.0",
            "_view_name": "LayoutView",
            "align_content": null,
            "align_items": null,
            "align_self": null,
            "border": null,
            "bottom": null,
            "display": null,
            "flex": null,
            "flex_flow": null,
            "grid_area": null,
            "grid_auto_columns": null,
            "grid_auto_flow": null,
            "grid_auto_rows": null,
            "grid_column": null,
            "grid_gap": null,
            "grid_row": null,
            "grid_template_areas": null,
            "grid_template_columns": null,
            "grid_template_rows": null,
            "height": null,
            "justify_content": null,
            "justify_items": null,
            "left": null,
            "margin": null,
            "max_height": null,
            "max_width": null,
            "min_height": null,
            "min_width": null,
            "object_fit": null,
            "object_position": null,
            "order": null,
            "overflow": null,
            "overflow_x": null,
            "overflow_y": null,
            "padding": null,
            "right": null,
            "top": null,
            "visibility": null,
            "width": null
          }
        },
        "196953ad6b504bcc98493e292088da8f": {
          "model_module": "@jupyter-widgets/controls",
          "model_name": "DescriptionStyleModel",
          "model_module_version": "1.5.0",
          "state": {
            "_model_module": "@jupyter-widgets/controls",
            "_model_module_version": "1.5.0",
            "_model_name": "DescriptionStyleModel",
            "_view_count": null,
            "_view_module": "@jupyter-widgets/base",
            "_view_module_version": "1.2.0",
            "_view_name": "StyleView",
            "description_width": ""
          }
        },
        "a9e7f6e89d2c488392d13857c7132175": {
          "model_module": "@jupyter-widgets/base",
          "model_name": "LayoutModel",
          "model_module_version": "1.2.0",
          "state": {
            "_model_module": "@jupyter-widgets/base",
            "_model_module_version": "1.2.0",
            "_model_name": "LayoutModel",
            "_view_count": null,
            "_view_module": "@jupyter-widgets/base",
            "_view_module_version": "1.2.0",
            "_view_name": "LayoutView",
            "align_content": null,
            "align_items": null,
            "align_self": null,
            "border": null,
            "bottom": null,
            "display": null,
            "flex": null,
            "flex_flow": null,
            "grid_area": null,
            "grid_auto_columns": null,
            "grid_auto_flow": null,
            "grid_auto_rows": null,
            "grid_column": null,
            "grid_gap": null,
            "grid_row": null,
            "grid_template_areas": null,
            "grid_template_columns": null,
            "grid_template_rows": null,
            "height": null,
            "justify_content": null,
            "justify_items": null,
            "left": null,
            "margin": null,
            "max_height": null,
            "max_width": null,
            "min_height": null,
            "min_width": null,
            "object_fit": null,
            "object_position": null,
            "order": null,
            "overflow": null,
            "overflow_x": null,
            "overflow_y": null,
            "padding": null,
            "right": null,
            "top": null,
            "visibility": null,
            "width": null
          }
        },
        "7ee3c01c133c40ce8f15a1fb2b600230": {
          "model_module": "@jupyter-widgets/controls",
          "model_name": "ProgressStyleModel",
          "model_module_version": "1.5.0",
          "state": {
            "_model_module": "@jupyter-widgets/controls",
            "_model_module_version": "1.5.0",
            "_model_name": "ProgressStyleModel",
            "_view_count": null,
            "_view_module": "@jupyter-widgets/base",
            "_view_module_version": "1.2.0",
            "_view_name": "StyleView",
            "bar_color": null,
            "description_width": ""
          }
        },
        "8cd6fb54f4bb43058f165a81d86635d9": {
          "model_module": "@jupyter-widgets/base",
          "model_name": "LayoutModel",
          "model_module_version": "1.2.0",
          "state": {
            "_model_module": "@jupyter-widgets/base",
            "_model_module_version": "1.2.0",
            "_model_name": "LayoutModel",
            "_view_count": null,
            "_view_module": "@jupyter-widgets/base",
            "_view_module_version": "1.2.0",
            "_view_name": "LayoutView",
            "align_content": null,
            "align_items": null,
            "align_self": null,
            "border": null,
            "bottom": null,
            "display": null,
            "flex": null,
            "flex_flow": null,
            "grid_area": null,
            "grid_auto_columns": null,
            "grid_auto_flow": null,
            "grid_auto_rows": null,
            "grid_column": null,
            "grid_gap": null,
            "grid_row": null,
            "grid_template_areas": null,
            "grid_template_columns": null,
            "grid_template_rows": null,
            "height": null,
            "justify_content": null,
            "justify_items": null,
            "left": null,
            "margin": null,
            "max_height": null,
            "max_width": null,
            "min_height": null,
            "min_width": null,
            "object_fit": null,
            "object_position": null,
            "order": null,
            "overflow": null,
            "overflow_x": null,
            "overflow_y": null,
            "padding": null,
            "right": null,
            "top": null,
            "visibility": null,
            "width": null
          }
        },
        "1e64ca2447714307b0ecc07e3b880383": {
          "model_module": "@jupyter-widgets/controls",
          "model_name": "DescriptionStyleModel",
          "model_module_version": "1.5.0",
          "state": {
            "_model_module": "@jupyter-widgets/controls",
            "_model_module_version": "1.5.0",
            "_model_name": "DescriptionStyleModel",
            "_view_count": null,
            "_view_module": "@jupyter-widgets/base",
            "_view_module_version": "1.2.0",
            "_view_name": "StyleView",
            "description_width": ""
          }
        }
      }
    }
  },
  "cells": [
    {
      "cell_type": "markdown",
      "source": [
        "Daniel R Silalahi (1103183232)"
      ],
      "metadata": {
        "id": "C_8o4vp1eqKG"
      }
    },
    {
      "cell_type": "code",
      "source": [
        "!pip install d2l"
      ],
      "metadata": {
        "colab": {
          "base_uri": "https://localhost:8080/",
          "height": 1000
        },
        "id": "o5qL-I5YeuRD",
        "outputId": "cc23bd24-61a1-492b-8bb5-efca9b24251e"
      },
      "execution_count": 1,
      "outputs": [
        {
          "output_type": "stream",
          "name": "stdout",
          "text": [
            "Looking in indexes: https://pypi.org/simple, https://us-python.pkg.dev/colab-wheels/public/simple/\n",
            "Collecting d2l\n",
            "  Downloading d2l-0.17.5-py3-none-any.whl (82 kB)\n",
            "\u001b[K     |████████████████████████████████| 82 kB 237 kB/s \n",
            "\u001b[?25hCollecting pandas==1.2.4\n",
            "  Downloading pandas-1.2.4-cp37-cp37m-manylinux1_x86_64.whl (9.9 MB)\n",
            "\u001b[K     |████████████████████████████████| 9.9 MB 11.1 MB/s \n",
            "\u001b[?25hRequirement already satisfied: jupyter==1.0.0 in /usr/local/lib/python3.7/dist-packages (from d2l) (1.0.0)\n",
            "Collecting matplotlib==3.5.1\n",
            "  Downloading matplotlib-3.5.1-cp37-cp37m-manylinux_2_5_x86_64.manylinux1_x86_64.whl (11.2 MB)\n",
            "\u001b[K     |████████████████████████████████| 11.2 MB 26.1 MB/s \n",
            "\u001b[?25hCollecting numpy==1.21.5\n",
            "  Downloading numpy-1.21.5-cp37-cp37m-manylinux_2_12_x86_64.manylinux2010_x86_64.whl (15.7 MB)\n",
            "\u001b[K     |████████████████████████████████| 15.7 MB 41.2 MB/s \n",
            "\u001b[?25hCollecting requests==2.25.1\n",
            "  Downloading requests-2.25.1-py2.py3-none-any.whl (61 kB)\n",
            "\u001b[K     |████████████████████████████████| 61 kB 8.1 MB/s \n",
            "\u001b[?25hRequirement already satisfied: ipywidgets in /usr/local/lib/python3.7/dist-packages (from jupyter==1.0.0->d2l) (7.7.0)\n",
            "Requirement already satisfied: jupyter-console in /usr/local/lib/python3.7/dist-packages (from jupyter==1.0.0->d2l) (5.2.0)\n",
            "Requirement already satisfied: ipykernel in /usr/local/lib/python3.7/dist-packages (from jupyter==1.0.0->d2l) (4.10.1)\n",
            "Requirement already satisfied: notebook in /usr/local/lib/python3.7/dist-packages (from jupyter==1.0.0->d2l) (5.3.1)\n",
            "Requirement already satisfied: nbconvert in /usr/local/lib/python3.7/dist-packages (from jupyter==1.0.0->d2l) (5.6.1)\n",
            "Requirement already satisfied: qtconsole in /usr/local/lib/python3.7/dist-packages (from jupyter==1.0.0->d2l) (5.3.1)\n",
            "Requirement already satisfied: cycler>=0.10 in /usr/local/lib/python3.7/dist-packages (from matplotlib==3.5.1->d2l) (0.11.0)\n",
            "Collecting fonttools>=4.22.0\n",
            "  Downloading fonttools-4.34.3-py3-none-any.whl (944 kB)\n",
            "\u001b[K     |████████████████████████████████| 944 kB 72.0 MB/s \n",
            "\u001b[?25hRequirement already satisfied: packaging>=20.0 in /usr/local/lib/python3.7/dist-packages (from matplotlib==3.5.1->d2l) (21.3)\n",
            "Requirement already satisfied: kiwisolver>=1.0.1 in /usr/local/lib/python3.7/dist-packages (from matplotlib==3.5.1->d2l) (1.4.3)\n",
            "Requirement already satisfied: pyparsing>=2.2.1 in /usr/local/lib/python3.7/dist-packages (from matplotlib==3.5.1->d2l) (3.0.9)\n",
            "Requirement already satisfied: python-dateutil>=2.7 in /usr/local/lib/python3.7/dist-packages (from matplotlib==3.5.1->d2l) (2.8.2)\n",
            "Requirement already satisfied: pillow>=6.2.0 in /usr/local/lib/python3.7/dist-packages (from matplotlib==3.5.1->d2l) (7.1.2)\n",
            "Requirement already satisfied: pytz>=2017.3 in /usr/local/lib/python3.7/dist-packages (from pandas==1.2.4->d2l) (2022.1)\n",
            "Requirement already satisfied: certifi>=2017.4.17 in /usr/local/lib/python3.7/dist-packages (from requests==2.25.1->d2l) (2022.6.15)\n",
            "Requirement already satisfied: urllib3<1.27,>=1.21.1 in /usr/local/lib/python3.7/dist-packages (from requests==2.25.1->d2l) (1.24.3)\n",
            "Requirement already satisfied: idna<3,>=2.5 in /usr/local/lib/python3.7/dist-packages (from requests==2.25.1->d2l) (2.10)\n",
            "Requirement already satisfied: chardet<5,>=3.0.2 in /usr/local/lib/python3.7/dist-packages (from requests==2.25.1->d2l) (3.0.4)\n",
            "Requirement already satisfied: typing-extensions in /usr/local/lib/python3.7/dist-packages (from kiwisolver>=1.0.1->matplotlib==3.5.1->d2l) (4.1.1)\n",
            "Requirement already satisfied: six>=1.5 in /usr/local/lib/python3.7/dist-packages (from python-dateutil>=2.7->matplotlib==3.5.1->d2l) (1.15.0)\n",
            "Requirement already satisfied: tornado>=4.0 in /usr/local/lib/python3.7/dist-packages (from ipykernel->jupyter==1.0.0->d2l) (5.1.1)\n",
            "Requirement already satisfied: jupyter-client in /usr/local/lib/python3.7/dist-packages (from ipykernel->jupyter==1.0.0->d2l) (5.3.5)\n",
            "Requirement already satisfied: traitlets>=4.1.0 in /usr/local/lib/python3.7/dist-packages (from ipykernel->jupyter==1.0.0->d2l) (5.1.1)\n",
            "Requirement already satisfied: ipython>=4.0.0 in /usr/local/lib/python3.7/dist-packages (from ipykernel->jupyter==1.0.0->d2l) (5.5.0)\n",
            "Requirement already satisfied: pygments in /usr/local/lib/python3.7/dist-packages (from ipython>=4.0.0->ipykernel->jupyter==1.0.0->d2l) (2.6.1)\n",
            "Requirement already satisfied: pickleshare in /usr/local/lib/python3.7/dist-packages (from ipython>=4.0.0->ipykernel->jupyter==1.0.0->d2l) (0.7.5)\n",
            "Requirement already satisfied: setuptools>=18.5 in /usr/local/lib/python3.7/dist-packages (from ipython>=4.0.0->ipykernel->jupyter==1.0.0->d2l) (57.4.0)\n",
            "Requirement already satisfied: pexpect in /usr/local/lib/python3.7/dist-packages (from ipython>=4.0.0->ipykernel->jupyter==1.0.0->d2l) (4.8.0)\n",
            "Requirement already satisfied: decorator in /usr/local/lib/python3.7/dist-packages (from ipython>=4.0.0->ipykernel->jupyter==1.0.0->d2l) (4.4.2)\n",
            "Requirement already satisfied: simplegeneric>0.8 in /usr/local/lib/python3.7/dist-packages (from ipython>=4.0.0->ipykernel->jupyter==1.0.0->d2l) (0.8.1)\n",
            "Requirement already satisfied: prompt-toolkit<2.0.0,>=1.0.4 in /usr/local/lib/python3.7/dist-packages (from ipython>=4.0.0->ipykernel->jupyter==1.0.0->d2l) (1.0.18)\n",
            "Requirement already satisfied: wcwidth in /usr/local/lib/python3.7/dist-packages (from prompt-toolkit<2.0.0,>=1.0.4->ipython>=4.0.0->ipykernel->jupyter==1.0.0->d2l) (0.2.5)\n",
            "Requirement already satisfied: jupyterlab-widgets>=1.0.0 in /usr/local/lib/python3.7/dist-packages (from ipywidgets->jupyter==1.0.0->d2l) (1.1.0)\n",
            "Requirement already satisfied: nbformat>=4.2.0 in /usr/local/lib/python3.7/dist-packages (from ipywidgets->jupyter==1.0.0->d2l) (5.4.0)\n",
            "Requirement already satisfied: widgetsnbextension~=3.6.0 in /usr/local/lib/python3.7/dist-packages (from ipywidgets->jupyter==1.0.0->d2l) (3.6.0)\n",
            "Requirement already satisfied: ipython-genutils~=0.2.0 in /usr/local/lib/python3.7/dist-packages (from ipywidgets->jupyter==1.0.0->d2l) (0.2.0)\n",
            "Requirement already satisfied: fastjsonschema in /usr/local/lib/python3.7/dist-packages (from nbformat>=4.2.0->ipywidgets->jupyter==1.0.0->d2l) (2.15.3)\n",
            "Requirement already satisfied: jupyter-core in /usr/local/lib/python3.7/dist-packages (from nbformat>=4.2.0->ipywidgets->jupyter==1.0.0->d2l) (4.10.0)\n",
            "Requirement already satisfied: jsonschema>=2.6 in /usr/local/lib/python3.7/dist-packages (from nbformat>=4.2.0->ipywidgets->jupyter==1.0.0->d2l) (4.3.3)\n",
            "Requirement already satisfied: pyrsistent!=0.17.0,!=0.17.1,!=0.17.2,>=0.14.0 in /usr/local/lib/python3.7/dist-packages (from jsonschema>=2.6->nbformat>=4.2.0->ipywidgets->jupyter==1.0.0->d2l) (0.18.1)\n",
            "Requirement already satisfied: importlib-resources>=1.4.0 in /usr/local/lib/python3.7/dist-packages (from jsonschema>=2.6->nbformat>=4.2.0->ipywidgets->jupyter==1.0.0->d2l) (5.7.1)\n",
            "Requirement already satisfied: attrs>=17.4.0 in /usr/local/lib/python3.7/dist-packages (from jsonschema>=2.6->nbformat>=4.2.0->ipywidgets->jupyter==1.0.0->d2l) (21.4.0)\n",
            "Requirement already satisfied: importlib-metadata in /usr/local/lib/python3.7/dist-packages (from jsonschema>=2.6->nbformat>=4.2.0->ipywidgets->jupyter==1.0.0->d2l) (4.11.4)\n",
            "Requirement already satisfied: zipp>=3.1.0 in /usr/local/lib/python3.7/dist-packages (from importlib-resources>=1.4.0->jsonschema>=2.6->nbformat>=4.2.0->ipywidgets->jupyter==1.0.0->d2l) (3.8.0)\n",
            "Requirement already satisfied: Send2Trash in /usr/local/lib/python3.7/dist-packages (from notebook->jupyter==1.0.0->d2l) (1.8.0)\n",
            "Requirement already satisfied: terminado>=0.8.1 in /usr/local/lib/python3.7/dist-packages (from notebook->jupyter==1.0.0->d2l) (0.13.3)\n",
            "Requirement already satisfied: jinja2 in /usr/local/lib/python3.7/dist-packages (from notebook->jupyter==1.0.0->d2l) (2.11.3)\n",
            "Requirement already satisfied: pyzmq>=13 in /usr/local/lib/python3.7/dist-packages (from jupyter-client->ipykernel->jupyter==1.0.0->d2l) (23.1.0)\n",
            "Requirement already satisfied: ptyprocess in /usr/local/lib/python3.7/dist-packages (from terminado>=0.8.1->notebook->jupyter==1.0.0->d2l) (0.7.0)\n",
            "Requirement already satisfied: MarkupSafe>=0.23 in /usr/local/lib/python3.7/dist-packages (from jinja2->notebook->jupyter==1.0.0->d2l) (2.0.1)\n",
            "Requirement already satisfied: pandocfilters>=1.4.1 in /usr/local/lib/python3.7/dist-packages (from nbconvert->jupyter==1.0.0->d2l) (1.5.0)\n",
            "Requirement already satisfied: mistune<2,>=0.8.1 in /usr/local/lib/python3.7/dist-packages (from nbconvert->jupyter==1.0.0->d2l) (0.8.4)\n",
            "Requirement already satisfied: entrypoints>=0.2.2 in /usr/local/lib/python3.7/dist-packages (from nbconvert->jupyter==1.0.0->d2l) (0.4)\n",
            "Requirement already satisfied: bleach in /usr/local/lib/python3.7/dist-packages (from nbconvert->jupyter==1.0.0->d2l) (5.0.0)\n",
            "Requirement already satisfied: defusedxml in /usr/local/lib/python3.7/dist-packages (from nbconvert->jupyter==1.0.0->d2l) (0.7.1)\n",
            "Requirement already satisfied: testpath in /usr/local/lib/python3.7/dist-packages (from nbconvert->jupyter==1.0.0->d2l) (0.6.0)\n",
            "Requirement already satisfied: webencodings in /usr/local/lib/python3.7/dist-packages (from bleach->nbconvert->jupyter==1.0.0->d2l) (0.5.1)\n",
            "Requirement already satisfied: qtpy>=2.0.1 in /usr/local/lib/python3.7/dist-packages (from qtconsole->jupyter==1.0.0->d2l) (2.1.0)\n",
            "Installing collected packages: numpy, fonttools, requests, pandas, matplotlib, d2l\n",
            "  Attempting uninstall: numpy\n",
            "    Found existing installation: numpy 1.21.6\n",
            "    Uninstalling numpy-1.21.6:\n",
            "      Successfully uninstalled numpy-1.21.6\n",
            "  Attempting uninstall: requests\n",
            "    Found existing installation: requests 2.23.0\n",
            "    Uninstalling requests-2.23.0:\n",
            "      Successfully uninstalled requests-2.23.0\n",
            "  Attempting uninstall: pandas\n",
            "    Found existing installation: pandas 1.3.5\n",
            "    Uninstalling pandas-1.3.5:\n",
            "      Successfully uninstalled pandas-1.3.5\n",
            "  Attempting uninstall: matplotlib\n",
            "    Found existing installation: matplotlib 3.2.2\n",
            "    Uninstalling matplotlib-3.2.2:\n",
            "      Successfully uninstalled matplotlib-3.2.2\n",
            "\u001b[31mERROR: pip's dependency resolver does not currently take into account all the packages that are installed. This behaviour is the source of the following dependency conflicts.\n",
            "google-colab 1.0.0 requires requests~=2.23.0, but you have requests 2.25.1 which is incompatible.\n",
            "datascience 0.10.6 requires folium==0.2.1, but you have folium 0.8.3 which is incompatible.\n",
            "albumentations 0.1.12 requires imgaug<0.2.7,>=0.2.5, but you have imgaug 0.2.9 which is incompatible.\u001b[0m\n",
            "Successfully installed d2l-0.17.5 fonttools-4.34.3 matplotlib-3.5.1 numpy-1.21.5 pandas-1.2.4 requests-2.25.1\n"
          ]
        },
        {
          "output_type": "display_data",
          "data": {
            "application/vnd.colab-display-data+json": {
              "pip_warning": {
                "packages": [
                  "matplotlib",
                  "mpl_toolkits",
                  "numpy"
                ]
              }
            }
          },
          "metadata": {}
        }
      ]
    },
    {
      "cell_type": "markdown",
      "source": [
        "# **Convolutional Neural Networks (LeNet)**"
      ],
      "metadata": {
        "id": "4gVQMS8VfAP0"
      }
    },
    {
      "cell_type": "markdown",
      "source": [
        "https://d2l.ai/chapter_convolutional-neural-networks/lenet.html#\n",
        "\n",
        "In this section, we will introduce LeNet, among the first published CNNs to capture wide attention for its performance on computer vision tasks. The model was introduced by (and named for) Yann LeCun, then a researcher at AT&T Bell Labs, for the purpose of recognizing handwritten digits in images\n",
        "\n",
        "At the time LeNet achieved outstanding results matching the performance of support vector machines, then a dominant approach in supervised learning. LeNet was eventually adapted to recognize digits for processing deposits in ATM machines.\n",
        "\n",
        "Now that we have a handle on convolutional layers, we can retain the spatial structure in our images. As an additional benefit of replacing fully-connected layers with convolutional layers, we will enjoy more parsimonious models that require far fewer parameters.\n",
        "\n",
        "In this section, we will introduce LeNet, among the first published CNNs to capture wide attention for its performance on computer vision tasks. The model was introduced by (and named for) Yann LeCun, then a researcher at AT&T Bell Labs, for the purpose of recognizing handwritten digits in images :cite:LeCun.Bottou.Bengio.ea.1998.\n",
        "\n",
        "This work represented the culmination of a decade of research developing the technology. In 1989, LeCun published the first study to successfully train CNNs via backpropagation.\n",
        "\n",
        "At the time LeNet achieved outstanding results matching the performance of support vector machines, then a dominant approach in supervised learning.\n",
        "\n",
        "LeNet was eventually adapted to recognize digits for processing deposits in ATM machines.\n"
      ],
      "metadata": {
        "id": "2MXyvjDLfBhV"
      }
    },
    {
      "cell_type": "markdown",
      "source": [
        "\n",
        "\n",
        "**6.6.1 LeNet**\n"
      ],
      "metadata": {
        "id": "Da7pZgRpfGt-"
      }
    },
    {
      "cell_type": "markdown",
      "source": [
        "![gambar.png](data:image/png;base64,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)"
      ],
      "metadata": {
        "id": "F1eAW-HCfzqU"
      }
    },
    {
      "cell_type": "markdown",
      "source": [
        "\n",
        "\n",
        "The basic units in each convolutional block are a convolutional layer, a sigmoid activation function, and a subsequent average pooling operation. Note that while ReLUs and max-pooling work better, these discoveries had not yet been made in the 1990s. Each convolutional layer uses a 5×5 kernel and a sigmoid activation function. These layers map spatially arranged inputs to a number of two-dimensional feature maps, typically increasing the number of channels. The first convolutional layer has 6 output channels, while the second has 16. Each 2×2 pooling operation (stride 2) reduces dimensionality by a factor of 4 via spatial downsampling. The convolutional block emits an output with shape given by (batch size, number of channel, height, width).\n",
        "\n",
        "In order to pass output from the convolutional block to the dense block, we must flatten each example in the minibatch. In other words, we take this four-dimensional input and transform it into the two-dimensional input expected by fully-connected layers: as a reminder, the two-dimensional representation that we desire uses the first dimension to index examples in the minibatch and the second to give the flat vector representation of each example. LeNet’s dense block has three fully-connected layers, with 120, 84, and 10 outputs, respectively. Because we are still performing classification, the 10-dimensional output layer corresponds to the number of possible output classes.\n",
        "\n",
        "While getting to the point where you truly understand what is going on inside LeNet may have taken a bit of work, hopefully the following code snippet will convince you that implementing such models with modern deep learning frameworks is remarkably simple. We need only to instantiate a Sequential block and chain together the appropriate layers.\n"
      ],
      "metadata": {
        "id": "k6Amv7aZgDmq"
      }
    },
    {
      "cell_type": "code",
      "source": [
        "import torch\n",
        "from torch import nn\n",
        "from d2l import torch as d2l\n",
        "\n",
        "net = nn.Sequential(\n",
        "    nn.Conv2d(1, 6, kernel_size=5, padding=2), nn.Sigmoid(),\n",
        "    nn.AvgPool2d(kernel_size=2, stride=2),\n",
        "    nn.Conv2d(6, 16, kernel_size=5), nn.Sigmoid(),\n",
        "    nn.AvgPool2d(kernel_size=2, stride=2),\n",
        "    nn.Flatten(),\n",
        "    nn.Linear(16 * 5 * 5, 120), nn.Sigmoid(),\n",
        "    nn.Linear(120, 84), nn.Sigmoid(),\n",
        "    nn.Linear(84, 10))"
      ],
      "metadata": {
        "id": "LyAKV746gHWA"
      },
      "execution_count": 1,
      "outputs": []
    },
    {
      "cell_type": "markdown",
      "source": [
        "\n",
        "\n",
        "We took a small liberty with the original model, removing the Gaussian activation in the final layer. Other than that, this network matches the original LeNet-5 architecture.\n",
        "\n",
        "By passing a single-channel (black and white) image through the network and printing the output shape at each layer, we can [inspect the model] to make sure that its operations line up with what we expect from :numref:\n"
      ],
      "metadata": {
        "id": "GYGZAfKxgJQG"
      }
    },
    {
      "cell_type": "markdown",
      "source": [
        "![gambar.png](data:image/png;base64,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)"
      ],
      "metadata": {
        "id": "X1FX_qXlgSXn"
      }
    },
    {
      "cell_type": "code",
      "source": [
        "X = torch.rand(size=(1, 1, 28, 28), dtype=torch.float32)\n",
        "for layer in net:\n",
        "    X = layer(X)\n",
        "    print(layer.__class__.__name__,'output shape: \\t',X.shape)"
      ],
      "metadata": {
        "colab": {
          "base_uri": "https://localhost:8080/"
        },
        "id": "S4yS58BCgUJb",
        "outputId": "6ef45173-77d3-4643-ba87-1fe2ac251f9b"
      },
      "execution_count": 2,
      "outputs": [
        {
          "output_type": "stream",
          "name": "stdout",
          "text": [
            "Conv2d output shape: \t torch.Size([1, 6, 28, 28])\n",
            "Sigmoid output shape: \t torch.Size([1, 6, 28, 28])\n",
            "AvgPool2d output shape: \t torch.Size([1, 6, 14, 14])\n",
            "Conv2d output shape: \t torch.Size([1, 16, 10, 10])\n",
            "Sigmoid output shape: \t torch.Size([1, 16, 10, 10])\n",
            "AvgPool2d output shape: \t torch.Size([1, 16, 5, 5])\n",
            "Flatten output shape: \t torch.Size([1, 400])\n",
            "Linear output shape: \t torch.Size([1, 120])\n",
            "Sigmoid output shape: \t torch.Size([1, 120])\n",
            "Linear output shape: \t torch.Size([1, 84])\n",
            "Sigmoid output shape: \t torch.Size([1, 84])\n",
            "Linear output shape: \t torch.Size([1, 10])\n"
          ]
        }
      ]
    },
    {
      "cell_type": "markdown",
      "source": [
        "Note that the height and width of the representation at each layer throughout the convolutional block is reduced (compared with the previous layer). The first convolutional layer uses 2 pixels of padding to compensate for the reduction in height and width that would otherwise result from using a 5×5 kernel. In contrast, the second convolutional layer forgoes padding, and thus the height and width are both reduced by 4 pixels. As we go up the stack of layers, the number of channels increases layer-over-layer from 1 in the input to 6 after the first convolutional layer and 16 after the second convolutional layer. However, each pooling layer halves the height and width. Finally, each fully-connected layer reduces dimensionality, finally emitting an output whose dimension matches the number of classes."
      ],
      "metadata": {
        "id": "1ZbG1b4IgX8E"
      }
    },
    {
      "cell_type": "markdown",
      "source": [
        "# **6.6.2. Training**"
      ],
      "metadata": {
        "id": "nxJKrCbrgYiM"
      }
    },
    {
      "cell_type": "markdown",
      "source": [
        "Now that we have implemented the model, let us [run an experiment to see how LeNet fares on Fashion-MNIST]."
      ],
      "metadata": {
        "id": "X68La4itgaa5"
      }
    },
    {
      "cell_type": "code",
      "source": [
        "batch_size = 256\n",
        "train_iter, test_iter = d2l.load_data_fashion_mnist(batch_size=batch_size)"
      ],
      "metadata": {
        "colab": {
          "base_uri": "https://localhost:8080/",
          "height": 484,
          "referenced_widgets": [
            "22b01cb0bee8478ea3ac1689efc4292b",
            "a9ff59514f25438aa696deef6975ef40",
            "90738c10cbcc49edaec06426722a5aad",
            "7744004594954a49895cebaa5efb230f",
            "a4b0c6c58bec491b9c1c92f8b983ece2",
            "ce63f0b76cbe4058ad179fce348c88fe",
            "4da83ae2b5d14f3d8aa2d2cbd96dc06f",
            "c65883daf5fe4698801b263d574876f2",
            "2c618a58314e41b094b0d31aa13614b7",
            "60eff9b63ced4a718092fde94eaf7b52",
            "e315aa2109894b9b9d03093d5c65fc77",
            "a6befbbc8d3f46c8af8b4f0a3e5af7e2",
            "e04b82dbfe144db9b2e01adedd0ab4bf",
            "8a29ad11b7834b59803d2b399a113b61",
            "80e91d1340b44199bfd87f0633c3d6ef",
            "a062fc64c05b4222bfb1b751880402f0",
            "df447530ef5d4a58b745c184951455df",
            "53304835c25442ada1d400fbe748b254",
            "47e62dda75ab4254a965c370c236fd9d",
            "805bc8e90dde437486010cccdcfa3323",
            "6c049164ad1742019c23abfeaad50815",
            "de83a29109b4461693b8351adc5757d4",
            "d4b339ad6385454bb9bd735ff428d658",
            "a967022152024727bbebc680d280eee5",
            "53649611e8604855b9274dabbaba476e",
            "9d1d287c141e4360b876b3b1f323208b",
            "94bf1bf94a364773b1b24445ea8ec477",
            "f6ab4e1189fa4e81a408e0110265e5c2",
            "a462c61741794eba9db86a312e308640",
            "ff875a1396af48269bff9e68f5cf8416",
            "1f9de7319a8b444ba092b87578eab8ba",
            "136c96990731466c8d011637fdb1d074",
            "6a57e1bd9aee4c4e9a1ac8c909d5e154",
            "70c27ed2a0a84f65a43ff4c530587863",
            "1a84dcda68d240aab0e20147b1867395",
            "abe66b5419a049d58f4d088ab2b48377",
            "2020a25b046e444189fa086afd9fd8dc",
            "246f1ea46f654e63a85c5e35c855fd77",
            "ba3e4e40d4da4d31a2ed9f50934f2afc",
            "196953ad6b504bcc98493e292088da8f",
            "a9e7f6e89d2c488392d13857c7132175",
            "7ee3c01c133c40ce8f15a1fb2b600230",
            "8cd6fb54f4bb43058f165a81d86635d9",
            "1e64ca2447714307b0ecc07e3b880383"
          ]
        },
        "id": "K0gDRaHGgcCG",
        "outputId": "b6afe772-b3c5-4659-e978-7d9f990ce21b"
      },
      "execution_count": 3,
      "outputs": [
        {
          "output_type": "stream",
          "name": "stdout",
          "text": [
            "Downloading http://fashion-mnist.s3-website.eu-central-1.amazonaws.com/train-images-idx3-ubyte.gz\n",
            "Downloading http://fashion-mnist.s3-website.eu-central-1.amazonaws.com/train-images-idx3-ubyte.gz to ../data/FashionMNIST/raw/train-images-idx3-ubyte.gz\n"
          ]
        },
        {
          "output_type": "display_data",
          "data": {
            "text/plain": [
              "  0%|          | 0/26421880 [00:00<?, ?it/s]"
            ],
            "application/vnd.jupyter.widget-view+json": {
              "version_major": 2,
              "version_minor": 0,
              "model_id": "22b01cb0bee8478ea3ac1689efc4292b"
            }
          },
          "metadata": {}
        },
        {
          "output_type": "stream",
          "name": "stdout",
          "text": [
            "Extracting ../data/FashionMNIST/raw/train-images-idx3-ubyte.gz to ../data/FashionMNIST/raw\n",
            "\n",
            "Downloading http://fashion-mnist.s3-website.eu-central-1.amazonaws.com/train-labels-idx1-ubyte.gz\n",
            "Downloading http://fashion-mnist.s3-website.eu-central-1.amazonaws.com/train-labels-idx1-ubyte.gz to ../data/FashionMNIST/raw/train-labels-idx1-ubyte.gz\n"
          ]
        },
        {
          "output_type": "display_data",
          "data": {
            "text/plain": [
              "  0%|          | 0/29515 [00:00<?, ?it/s]"
            ],
            "application/vnd.jupyter.widget-view+json": {
              "version_major": 2,
              "version_minor": 0,
              "model_id": "a6befbbc8d3f46c8af8b4f0a3e5af7e2"
            }
          },
          "metadata": {}
        },
        {
          "output_type": "stream",
          "name": "stdout",
          "text": [
            "Extracting ../data/FashionMNIST/raw/train-labels-idx1-ubyte.gz to ../data/FashionMNIST/raw\n",
            "\n",
            "Downloading http://fashion-mnist.s3-website.eu-central-1.amazonaws.com/t10k-images-idx3-ubyte.gz\n",
            "Downloading http://fashion-mnist.s3-website.eu-central-1.amazonaws.com/t10k-images-idx3-ubyte.gz to ../data/FashionMNIST/raw/t10k-images-idx3-ubyte.gz\n"
          ]
        },
        {
          "output_type": "display_data",
          "data": {
            "text/plain": [
              "  0%|          | 0/4422102 [00:00<?, ?it/s]"
            ],
            "application/vnd.jupyter.widget-view+json": {
              "version_major": 2,
              "version_minor": 0,
              "model_id": "d4b339ad6385454bb9bd735ff428d658"
            }
          },
          "metadata": {}
        },
        {
          "output_type": "stream",
          "name": "stdout",
          "text": [
            "Extracting ../data/FashionMNIST/raw/t10k-images-idx3-ubyte.gz to ../data/FashionMNIST/raw\n",
            "\n",
            "Downloading http://fashion-mnist.s3-website.eu-central-1.amazonaws.com/t10k-labels-idx1-ubyte.gz\n",
            "Downloading http://fashion-mnist.s3-website.eu-central-1.amazonaws.com/t10k-labels-idx1-ubyte.gz to ../data/FashionMNIST/raw/t10k-labels-idx1-ubyte.gz\n"
          ]
        },
        {
          "output_type": "display_data",
          "data": {
            "text/plain": [
              "  0%|          | 0/5148 [00:00<?, ?it/s]"
            ],
            "application/vnd.jupyter.widget-view+json": {
              "version_major": 2,
              "version_minor": 0,
              "model_id": "70c27ed2a0a84f65a43ff4c530587863"
            }
          },
          "metadata": {}
        },
        {
          "output_type": "stream",
          "name": "stdout",
          "text": [
            "Extracting ../data/FashionMNIST/raw/t10k-labels-idx1-ubyte.gz to ../data/FashionMNIST/raw\n",
            "\n"
          ]
        },
        {
          "output_type": "stream",
          "name": "stderr",
          "text": [
            "/usr/local/lib/python3.7/dist-packages/torch/utils/data/dataloader.py:490: UserWarning: This DataLoader will create 4 worker processes in total. Our suggested max number of worker in current system is 2, which is smaller than what this DataLoader is going to create. Please be aware that excessive worker creation might get DataLoader running slow or even freeze, lower the worker number to avoid potential slowness/freeze if necessary.\n",
            "  cpuset_checked))\n"
          ]
        }
      ]
    },
    {
      "cell_type": "markdown",
      "source": [
        "\n",
        "\n",
        "While CNNs have fewer parameters, they can still be more expensive to compute than similarly deep MLPs because each parameter participates in many more multiplications. If you have access to a GPU, this might be a good time to put it into action to speed up training.\n",
        "\n",
        "For evaluation, we need to make a slight modification to the evaluate_accuracy function that we described in Section 3.6. Since the full dataset is in the main memory, we need to copy it to the GPU memory before the model uses GPU to compute with the dataset.\n"
      ],
      "metadata": {
        "id": "Apkqfq2IgfUg"
      }
    },
    {
      "cell_type": "code",
      "source": [
        "def evaluate_accuracy_gpu(net, data_iter, device=None):  #@save\n",
        "    \"\"\"Compute the accuracy for a model on a dataset using a GPU.\"\"\"\n",
        "    if not device:  # Query the first device where the first parameter is on\n",
        "        device = list(net.collect_params().values())[0].list_ctx()[0]\n",
        "    # No. of correct predictions, no. of predictions\n",
        "    metric = d2l.Accumulator(2)\n",
        "    for X, y in data_iter:\n",
        "        X, y = X.as_in_ctx(device), y.as_in_ctx(device)\n",
        "        metric.add(d2l.accuracy(net(X), y), d2l.size(y))\n",
        "    return metric[0] / metric[1]"
      ],
      "metadata": {
        "id": "cY2vV8dzgf2i"
      },
      "execution_count": 4,
      "outputs": []
    },
    {
      "cell_type": "markdown",
      "source": [
        "\n",
        "\n",
        "We also need to update our training function to deal with GPUs. Unlike the train_epoch_ch3 defined in Section 3.6, we now need to move each minibatch of data to our designated device (hopefully, the GPU) prior to making the forward and backward propagations.\n",
        "\n",
        "The training function train_ch6 is also similar to train_ch3 defined in Section 3.6. Since we will be implementing networks with many layers going forward, we will rely primarily on high-level APIs. The following training function assumes a model created from high-level APIs as input and is optimized accordingly. We initialize the model parameters on the device indicated by the device argument, using Xavier initialization as introduced in Section 4.8.2.2. Just as with MLPs, our loss function is cross-entropy, and we minimize it via minibatch stochastic gradient descent. Since each epoch takes tens of seconds to run, we visualize the training loss more frequently.\n"
      ],
      "metadata": {
        "id": "1x3r1cmXghvq"
      }
    },
    {
      "cell_type": "code",
      "source": [
        "#@save\n",
        "def train_ch6(net, train_iter, test_iter, num_epochs, lr, device):\n",
        "    \"\"\"Train a model with a GPU (defined in Chapter 6).\"\"\"\n",
        "    net.initialize(force_reinit=True, ctx=device, init=init.Xavier())\n",
        "    loss = gluon.loss.SoftmaxCrossEntropyLoss()\n",
        "    trainer = gluon.Trainer(net.collect_params(),\n",
        "                            'sgd', {'learning_rate': lr})\n",
        "    animator = d2l.Animator(xlabel='epoch', xlim=[1, num_epochs],\n",
        "                            legend=['train loss', 'train acc', 'test acc'])\n",
        "    timer, num_batches = d2l.Timer(), len(train_iter)\n",
        "    for epoch in range(num_epochs):\n",
        "        # Sum of training loss, sum of training accuracy, no. of examples\n",
        "        metric = d2l.Accumulator(3)\n",
        "        for i, (X, y) in enumerate(train_iter):\n",
        "            timer.start()\n",
        "            # Here is the major difference from `d2l.train_epoch_ch3`\n",
        "            X, y = X.as_in_ctx(device), y.as_in_ctx(device)\n",
        "            with autograd.record():\n",
        "                y_hat = net(X)\n",
        "                l = loss(y_hat, y)\n",
        "            l.backward()\n",
        "            trainer.step(X.shape[0])\n",
        "            metric.add(l.sum(), d2l.accuracy(y_hat, y), X.shape[0])\n",
        "            timer.stop()\n",
        "            train_l = metric[0] / metric[2]\n",
        "            train_acc = metric[1] / metric[2]\n",
        "            if (i + 1) % (num_batches // 5) == 0 or i == num_batches - 1:\n",
        "                animator.add(epoch + (i + 1) / num_batches,\n",
        "                             (train_l, train_acc, None))\n",
        "        test_acc = evaluate_accuracy_gpu(net, test_iter)\n",
        "        animator.add(epoch + 1, (None, None, test_acc))\n",
        "    print(f'loss {train_l:.3f}, train acc {train_acc:.3f}, '\n",
        "          f'test acc {test_acc:.3f}')\n",
        "    print(f'{metric[2] * num_epochs / timer.sum():.1f} examples/sec '\n",
        "          f'on {str(device)}')"
      ],
      "metadata": {
        "id": "y2A0040BgnMR"
      },
      "execution_count": 5,
      "outputs": []
    },
    {
      "cell_type": "markdown",
      "source": [
        "**Now let us train and evaluate the LeNet-5 model.**"
      ],
      "metadata": {
        "id": "q5b5OUR2gn2B"
      }
    },
    {
      "cell_type": "code",
      "source": [
        "\n",
        "\n",
        "lr, num_epochs = 0.9, 10\n",
        "train_ch6(net, train_iter, test_iter, num_epochs, lr, d2l.try_gpu())\n",
        "\n"
      ],
      "metadata": {
        "colab": {
          "base_uri": "https://localhost:8080/",
          "height": 369
        },
        "id": "SvaLxhCPgrEw",
        "outputId": "f905639c-79e6-4298-e83e-c9a6674cf2e1"
      },
      "execution_count": 6,
      "outputs": [
        {
          "output_type": "error",
          "ename": "AttributeError",
          "evalue": "ignored",
          "traceback": [
            "\u001b[0;31m---------------------------------------------------------------------------\u001b[0m",
            "\u001b[0;31mAttributeError\u001b[0m                            Traceback (most recent call last)",
            "\u001b[0;32m<ipython-input-6-460d9ec4e106>\u001b[0m in \u001b[0;36m<module>\u001b[0;34m()\u001b[0m\n\u001b[1;32m      2\u001b[0m \u001b[0;34m\u001b[0m\u001b[0m\n\u001b[1;32m      3\u001b[0m \u001b[0mlr\u001b[0m\u001b[0;34m,\u001b[0m \u001b[0mnum_epochs\u001b[0m \u001b[0;34m=\u001b[0m \u001b[0;36m0.9\u001b[0m\u001b[0;34m,\u001b[0m \u001b[0;36m10\u001b[0m\u001b[0;34m\u001b[0m\u001b[0;34m\u001b[0m\u001b[0m\n\u001b[0;32m----> 4\u001b[0;31m \u001b[0mtrain_ch6\u001b[0m\u001b[0;34m(\u001b[0m\u001b[0mnet\u001b[0m\u001b[0;34m,\u001b[0m \u001b[0mtrain_iter\u001b[0m\u001b[0;34m,\u001b[0m \u001b[0mtest_iter\u001b[0m\u001b[0;34m,\u001b[0m \u001b[0mnum_epochs\u001b[0m\u001b[0;34m,\u001b[0m \u001b[0mlr\u001b[0m\u001b[0;34m,\u001b[0m \u001b[0md2l\u001b[0m\u001b[0;34m.\u001b[0m\u001b[0mtry_gpu\u001b[0m\u001b[0;34m(\u001b[0m\u001b[0;34m)\u001b[0m\u001b[0;34m)\u001b[0m\u001b[0;34m\u001b[0m\u001b[0;34m\u001b[0m\u001b[0m\n\u001b[0m\u001b[1;32m      5\u001b[0m \u001b[0;34m\u001b[0m\u001b[0m\n",
            "\u001b[0;32m<ipython-input-5-9b4f5408ec5c>\u001b[0m in \u001b[0;36mtrain_ch6\u001b[0;34m(net, train_iter, test_iter, num_epochs, lr, device)\u001b[0m\n\u001b[1;32m      2\u001b[0m \u001b[0;32mdef\u001b[0m \u001b[0mtrain_ch6\u001b[0m\u001b[0;34m(\u001b[0m\u001b[0mnet\u001b[0m\u001b[0;34m,\u001b[0m \u001b[0mtrain_iter\u001b[0m\u001b[0;34m,\u001b[0m \u001b[0mtest_iter\u001b[0m\u001b[0;34m,\u001b[0m \u001b[0mnum_epochs\u001b[0m\u001b[0;34m,\u001b[0m \u001b[0mlr\u001b[0m\u001b[0;34m,\u001b[0m \u001b[0mdevice\u001b[0m\u001b[0;34m)\u001b[0m\u001b[0;34m:\u001b[0m\u001b[0;34m\u001b[0m\u001b[0;34m\u001b[0m\u001b[0m\n\u001b[1;32m      3\u001b[0m     \u001b[0;34m\"\"\"Train a model with a GPU (defined in Chapter 6).\"\"\"\u001b[0m\u001b[0;34m\u001b[0m\u001b[0;34m\u001b[0m\u001b[0m\n\u001b[0;32m----> 4\u001b[0;31m     \u001b[0mnet\u001b[0m\u001b[0;34m.\u001b[0m\u001b[0minitialize\u001b[0m\u001b[0;34m(\u001b[0m\u001b[0mforce_reinit\u001b[0m\u001b[0;34m=\u001b[0m\u001b[0;32mTrue\u001b[0m\u001b[0;34m,\u001b[0m \u001b[0mctx\u001b[0m\u001b[0;34m=\u001b[0m\u001b[0mdevice\u001b[0m\u001b[0;34m,\u001b[0m \u001b[0minit\u001b[0m\u001b[0;34m=\u001b[0m\u001b[0minit\u001b[0m\u001b[0;34m.\u001b[0m\u001b[0mXavier\u001b[0m\u001b[0;34m(\u001b[0m\u001b[0;34m)\u001b[0m\u001b[0;34m)\u001b[0m\u001b[0;34m\u001b[0m\u001b[0;34m\u001b[0m\u001b[0m\n\u001b[0m\u001b[1;32m      5\u001b[0m     \u001b[0mloss\u001b[0m \u001b[0;34m=\u001b[0m \u001b[0mgluon\u001b[0m\u001b[0;34m.\u001b[0m\u001b[0mloss\u001b[0m\u001b[0;34m.\u001b[0m\u001b[0mSoftmaxCrossEntropyLoss\u001b[0m\u001b[0;34m(\u001b[0m\u001b[0;34m)\u001b[0m\u001b[0;34m\u001b[0m\u001b[0;34m\u001b[0m\u001b[0m\n\u001b[1;32m      6\u001b[0m     trainer = gluon.Trainer(net.collect_params(),\n",
            "\u001b[0;32m/usr/local/lib/python3.7/dist-packages/torch/nn/modules/module.py\u001b[0m in \u001b[0;36m__getattr__\u001b[0;34m(self, name)\u001b[0m\n\u001b[1;32m   1184\u001b[0m                 \u001b[0;32mreturn\u001b[0m \u001b[0mmodules\u001b[0m\u001b[0;34m[\u001b[0m\u001b[0mname\u001b[0m\u001b[0;34m]\u001b[0m\u001b[0;34m\u001b[0m\u001b[0;34m\u001b[0m\u001b[0m\n\u001b[1;32m   1185\u001b[0m         raise AttributeError(\"'{}' object has no attribute '{}'\".format(\n\u001b[0;32m-> 1186\u001b[0;31m             type(self).__name__, name))\n\u001b[0m\u001b[1;32m   1187\u001b[0m \u001b[0;34m\u001b[0m\u001b[0m\n\u001b[1;32m   1188\u001b[0m     \u001b[0;32mdef\u001b[0m \u001b[0m__setattr__\u001b[0m\u001b[0;34m(\u001b[0m\u001b[0mself\u001b[0m\u001b[0;34m,\u001b[0m \u001b[0mname\u001b[0m\u001b[0;34m:\u001b[0m \u001b[0mstr\u001b[0m\u001b[0;34m,\u001b[0m \u001b[0mvalue\u001b[0m\u001b[0;34m:\u001b[0m \u001b[0mUnion\u001b[0m\u001b[0;34m[\u001b[0m\u001b[0mTensor\u001b[0m\u001b[0;34m,\u001b[0m \u001b[0;34m'Module'\u001b[0m\u001b[0;34m]\u001b[0m\u001b[0;34m)\u001b[0m \u001b[0;34m->\u001b[0m \u001b[0;32mNone\u001b[0m\u001b[0;34m:\u001b[0m\u001b[0;34m\u001b[0m\u001b[0;34m\u001b[0m\u001b[0m\n",
            "\u001b[0;31mAttributeError\u001b[0m: 'Sequential' object has no attribute 'initialize'"
          ]
        }
      ]
    },
    {
      "cell_type": "markdown",
      "source": [
        "\n",
        "# **6.6.3. Summary**"
      ],
      "metadata": {
        "id": "tEDTFZGxgvPq"
      }
    },
    {
      "cell_type": "markdown",
      "source": [
        "\n",
        "\n",
        "    A CNN is a network that employs convolutional layers.\n",
        "    In a CNN, we interleave convolutions, nonlinearities, and (often) pooling operations.\n",
        "\n",
        "    In a CNN, convolutional layers are typically arranged so that they gradually decrease the spatial resolution of the representations, while increasing the number of channels.\n",
        "    In traditional CNNs, the representations encoded by the convolutional blocks are processed by one or more fully-connected layers prior to emitting output.\n",
        "\n",
        "    LeNet was arguably the first successful deployment of such a network.\n",
        "\n"
      ],
      "metadata": {
        "id": "59Ae2SMvgyaw"
      }
    },
    {
      "cell_type": "markdown",
      "source": [
        "\n",
        "# **6.6.4. Exercises**"
      ],
      "metadata": {
        "id": "1vMHHet9g2l1"
      }
    },
    {
      "cell_type": "markdown",
      "source": [
        "\n",
        "\n",
        "    Replace the average pooling with maximum pooling. What happens?\n",
        "    Try to construct a more complex network based on LeNet to improve its accuracy.\n",
        "        Adjust the convolution window size.\n",
        "        Adjust the number of output channels.\n",
        "        Adjust the activation function (e.g., ReLU).\n",
        "        Adjust the number of convolution layers.\n",
        "        Adjust the number of fully connected layers.\n",
        "        Adjust the learning rates and other training details (e.g., initialization and number of epochs.)\n",
        "\n",
        "    Try out the improved network on the original MNIST dataset.\n",
        "    Display the activations of the first and second layer of LeNet for different inputs (e.g., sweaters and coats).\n",
        "\n"
      ],
      "metadata": {
        "id": "D02wq9SLg5tF"
      }
    }
  ]
}